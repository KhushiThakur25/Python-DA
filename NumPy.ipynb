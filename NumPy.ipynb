{
 "cells": [
  {
   "cell_type": "code",
   "execution_count": 2,
   "id": "66f8a5a9-4678-40f7-9ce4-eb56b4d03c65",
   "metadata": {
    "tags": []
   },
   "outputs": [],
   "source": [
    "import numpy as np\n",
    "import sys ,time"
   ]
  },
  {
   "cell_type": "code",
   "execution_count": 3,
   "id": "2e503fc2-9891-4100-a113-8c15b632f9a1",
   "metadata": {
    "tags": []
   },
   "outputs": [],
   "source": [
    "arr = np.array([23,41,15,65,80])"
   ]
  },
  {
   "cell_type": "code",
   "execution_count": 4,
   "id": "7e21e9bf-e426-47e5-9ba5-5faa12c26fa0",
   "metadata": {
    "tags": []
   },
   "outputs": [
    {
     "data": {
      "text/plain": [
       "array([23, 41, 15, 65, 80])"
      ]
     },
     "execution_count": 4,
     "metadata": {},
     "output_type": "execute_result"
    }
   ],
   "source": [
    "arr"
   ]
  },
  {
   "cell_type": "code",
   "execution_count": 5,
   "id": "31a3e1f8-3e52-4233-b934-6894dc025a17",
   "metadata": {
    "tags": []
   },
   "outputs": [],
   "source": [
    "x = np.array([[1,2,3],[4,5,6],[7,8,9]])"
   ]
  },
  {
   "cell_type": "code",
   "execution_count": 6,
   "id": "cd5c8f0e-a6be-44ed-b36c-b106884e5efc",
   "metadata": {
    "tags": []
   },
   "outputs": [
    {
     "data": {
      "text/plain": [
       "array([[1, 2, 3],\n",
       "       [4, 5, 6],\n",
       "       [7, 8, 9]])"
      ]
     },
     "execution_count": 6,
     "metadata": {},
     "output_type": "execute_result"
    }
   ],
   "source": [
    "x"
   ]
  },
  {
   "cell_type": "code",
   "execution_count": 8,
   "id": "1cb18835-f900-4035-bf3d-315519cd01cd",
   "metadata": {
    "tags": []
   },
   "outputs": [
    {
     "data": {
      "text/plain": [
       "array([[11, 12, 13],\n",
       "       [14, 15, 16],\n",
       "       [17, 18, 19]])"
      ]
     },
     "execution_count": 8,
     "metadata": {},
     "output_type": "execute_result"
    }
   ],
   "source": [
    "x = x + 5\n",
    "x"
   ]
  },
  {
   "cell_type": "code",
   "execution_count": 7,
   "id": "3e1ab47e-7092-4bac-bff7-328d5b79ebfb",
   "metadata": {
    "tags": []
   },
   "outputs": [
    {
     "data": {
      "text/plain": [
       "array([1, 2, 3, 4, 5, 6, 7, 8, 9])"
      ]
     },
     "execution_count": 7,
     "metadata": {},
     "output_type": "execute_result"
    }
   ],
   "source": [
    "np.arange(1,10)"
   ]
  },
  {
   "cell_type": "code",
   "execution_count": 8,
   "id": "0cc56609-7592-4a1c-8aae-d8dd8eeb035e",
   "metadata": {
    "tags": []
   },
   "outputs": [],
   "source": [
    "y = np.arange(1,11,3)"
   ]
  },
  {
   "cell_type": "code",
   "execution_count": 9,
   "id": "2d3b8364-fa22-4b73-807a-67836a2efd42",
   "metadata": {
    "tags": []
   },
   "outputs": [
    {
     "data": {
      "text/plain": [
       "array([ 1,  4,  7, 10])"
      ]
     },
     "execution_count": 9,
     "metadata": {},
     "output_type": "execute_result"
    }
   ],
   "source": [
    "y"
   ]
  },
  {
   "cell_type": "code",
   "execution_count": 10,
   "id": "43d8fd1a-e39b-4493-bb18-b95cde2408ca",
   "metadata": {
    "tags": []
   },
   "outputs": [
    {
     "data": {
      "text/plain": [
       "array([ 1.,  3.,  5.,  7.,  9., 11., 13.], dtype=float32)"
      ]
     },
     "execution_count": 10,
     "metadata": {},
     "output_type": "execute_result"
    }
   ],
   "source": [
    "np.arange(1,15,2,dtype = 'float32')"
   ]
  },
  {
   "cell_type": "code",
   "execution_count": 11,
   "id": "f456986f-2ddd-47e8-80b9-101b005801ce",
   "metadata": {
    "tags": []
   },
   "outputs": [
    {
     "ename": "TypeError",
     "evalue": "data type 'float8' not understood",
     "output_type": "error",
     "traceback": [
      "\u001b[1;31m---------------------------------------------------------------------------\u001b[0m",
      "\u001b[1;31mTypeError\u001b[0m                                 Traceback (most recent call last)",
      "Cell \u001b[1;32mIn[11], line 1\u001b[0m\n\u001b[1;32m----> 1\u001b[0m np\u001b[38;5;241m.\u001b[39marange(\u001b[38;5;241m1\u001b[39m,\u001b[38;5;241m15\u001b[39m,\u001b[38;5;241m2\u001b[39m,dtype \u001b[38;5;241m=\u001b[39m \u001b[38;5;124m'\u001b[39m\u001b[38;5;124mfloat8\u001b[39m\u001b[38;5;124m'\u001b[39m)\n",
      "\u001b[1;31mTypeError\u001b[0m: data type 'float8' not understood"
     ]
    }
   ],
   "source": [
    "np.arange(1,15,2,dtype = 'float8')"
   ]
  },
  {
   "cell_type": "code",
   "execution_count": 9,
   "id": "f32e49a4-ac7d-4359-8810-1eb60a9139f7",
   "metadata": {
    "tags": []
   },
   "outputs": [],
   "source": [
    "list_1 = [2,3,6,5]\n",
    "x = np.array([4,5,6,7])"
   ]
  },
  {
   "cell_type": "code",
   "execution_count": 10,
   "id": "a465ea89-c731-424c-a683-474059bde7e6",
   "metadata": {
    "tags": []
   },
   "outputs": [
    {
     "data": {
      "text/plain": [
       "56"
      ]
     },
     "execution_count": 10,
     "metadata": {},
     "output_type": "execute_result"
    }
   ],
   "source": [
    "sys.getsizeof([])"
   ]
  },
  {
   "cell_type": "code",
   "execution_count": 11,
   "id": "8b25e8da-ce5b-4554-841e-465c34973f02",
   "metadata": {
    "tags": []
   },
   "outputs": [],
   "source": [
    "y = np.array([])"
   ]
  },
  {
   "cell_type": "code",
   "execution_count": 12,
   "id": "8cc168f7-5ae2-403a-be59-07349d4dd98f",
   "metadata": {
    "tags": []
   },
   "outputs": [
    {
     "data": {
      "text/plain": [
       "112"
      ]
     },
     "execution_count": 12,
     "metadata": {},
     "output_type": "execute_result"
    }
   ],
   "source": [
    "sys.getsizeof(np.array([]))"
   ]
  },
  {
   "cell_type": "code",
   "execution_count": 13,
   "id": "0fa4b5e4-658f-4c59-b489-724f3b441958",
   "metadata": {
    "tags": []
   },
   "outputs": [
    {
     "data": {
      "text/plain": [
       "72"
      ]
     },
     "execution_count": 13,
     "metadata": {},
     "output_type": "execute_result"
    }
   ],
   "source": [
    "sys.getsizeof([2,3])"
   ]
  },
  {
   "cell_type": "code",
   "execution_count": 18,
   "id": "468736ab-0dd7-463d-a747-745484831a83",
   "metadata": {
    "tags": []
   },
   "outputs": [
    {
     "data": {
      "text/plain": [
       "120"
      ]
     },
     "execution_count": 18,
     "metadata": {},
     "output_type": "execute_result"
    }
   ],
   "source": [
    "sys.getsizeof(np.array([2,3]))"
   ]
  },
  {
   "cell_type": "code",
   "execution_count": null,
   "id": "955294c6-4776-4883-8f14-819634f46f67",
   "metadata": {
    "tags": []
   },
   "outputs": [],
   "source": [
    "sys.getsizeof(np.array([1,2,3,4,6,7,8,9,5,6,2,4]))"
   ]
  },
  {
   "cell_type": "code",
   "execution_count": null,
   "id": "f662b648-3ddc-48aa-b7a7-9c9ebcc80d38",
   "metadata": {
    "tags": []
   },
   "outputs": [],
   "source": [
    "sys.getsizeof([1,2,3,4,6,7,8,9,5,6,2,4])"
   ]
  },
  {
   "cell_type": "code",
   "execution_count": 17,
   "id": "b71449ec-2aac-40af-8070-77a62ffd0ffc",
   "metadata": {
    "tags": []
   },
   "outputs": [
    {
     "name": "stdout",
     "output_type": "stream",
     "text": [
      "total time taken is: 3.6577353477478027\n"
     ]
    }
   ],
   "source": [
    "list_1 = list(range(10000000))\n",
    "list_2 = list(range(10000000))\n",
    "lists_3 = []\n",
    "start = time.time()\n",
    "\n",
    "\n",
    "for i in range(len(list_1)):\n",
    "    lists_3.append(list_1[i] + list_2[i])\n",
    "    \n",
    "end = time.time()\n",
    "\n",
    "total = end - start\n",
    "\n",
    "print(\"total time taken is:\",total)"
   ]
  },
  {
   "cell_type": "code",
   "execution_count": 18,
   "id": "3a57a1c3-e850-4c66-a318-d69354b21273",
   "metadata": {
    "tags": []
   },
   "outputs": [
    {
     "name": "stdout",
     "output_type": "stream",
     "text": [
      "total time taken by array is: 0.02473902702331543\n"
     ]
    }
   ],
   "source": [
    "arr_1 = np.array(list_1)\n",
    "arr_2 = np.array(list_2)\n",
    "\n",
    "start = time.time()\n",
    "\n",
    "arr_3 = arr_1 + arr_2\n",
    "\n",
    "end = time.time()\n",
    "total = end - start\n",
    "print(\"total time taken by array is:\",total)"
   ]
  },
  {
   "cell_type": "code",
   "execution_count": 20,
   "id": "c68e3bc9-8ddf-4f67-8827-08dbef51f111",
   "metadata": {
    "tags": []
   },
   "outputs": [
    {
     "data": {
      "text/plain": [
       "(array([ 2. ,  3.8,  5.6,  7.4,  9.2, 11. , 12.8, 14.6, 16.4, 18.2, 20. ]),\n",
       " 1.8)"
      ]
     },
     "execution_count": 20,
     "metadata": {},
     "output_type": "execute_result"
    }
   ],
   "source": [
    "np.linspace(2,20,num = 11,retstep = True)"
   ]
  },
  {
   "cell_type": "code",
   "execution_count": 22,
   "id": "c45abf7a-5950-46c7-8c39-b88f86e3e3b5",
   "metadata": {
    "tags": []
   },
   "outputs": [
    {
     "data": {
      "text/plain": [
       "array([[0., 0., 0.],\n",
       "       [0., 0., 0.]])"
      ]
     },
     "execution_count": 22,
     "metadata": {},
     "output_type": "execute_result"
    }
   ],
   "source": [
    "np.zeros((2,3))"
   ]
  },
  {
   "cell_type": "code",
   "execution_count": 23,
   "id": "b5c32db8-57b2-4ea7-8edd-7342d14b2cfb",
   "metadata": {
    "tags": []
   },
   "outputs": [
    {
     "data": {
      "text/plain": [
       "array([[0., 0., 0.],\n",
       "       [0., 0., 0.],\n",
       "       [0., 0., 0.]])"
      ]
     },
     "execution_count": 23,
     "metadata": {},
     "output_type": "execute_result"
    }
   ],
   "source": [
    "np.zeros([3,3])"
   ]
  },
  {
   "cell_type": "code",
   "execution_count": 28,
   "id": "b9426145-6181-4c8a-8588-8962968f83ed",
   "metadata": {
    "tags": []
   },
   "outputs": [
    {
     "data": {
      "text/plain": [
       "array([1., 1., 1., 1., 1.])"
      ]
     },
     "execution_count": 28,
     "metadata": {},
     "output_type": "execute_result"
    }
   ],
   "source": [
    "np.ones(5)"
   ]
  },
  {
   "cell_type": "code",
   "execution_count": 25,
   "id": "dfc73df6-d571-4b55-a68f-74ad4769a311",
   "metadata": {
    "tags": []
   },
   "outputs": [
    {
     "data": {
      "text/plain": [
       "array([[1., 1., 1., 1.],\n",
       "       [1., 1., 1., 1.],\n",
       "       [1., 1., 1., 1.]])"
      ]
     },
     "execution_count": 25,
     "metadata": {},
     "output_type": "execute_result"
    }
   ],
   "source": [
    "np.ones([3,4])"
   ]
  },
  {
   "cell_type": "code",
   "execution_count": 26,
   "id": "092f8203-4efa-42ad-9806-e847332c5bb7",
   "metadata": {
    "tags": []
   },
   "outputs": [
    {
     "data": {
      "text/plain": [
       "-1.876528900289201"
      ]
     },
     "execution_count": 26,
     "metadata": {},
     "output_type": "execute_result"
    }
   ],
   "source": [
    "np.random.randn()"
   ]
  },
  {
   "cell_type": "code",
   "execution_count": 32,
   "id": "e838bbae-fa27-4a69-a32f-f2d05ea4cb8f",
   "metadata": {
    "tags": []
   },
   "outputs": [
    {
     "data": {
      "text/plain": [
       "9"
      ]
     },
     "execution_count": 32,
     "metadata": {},
     "output_type": "execute_result"
    }
   ],
   "source": [
    "np.random.randint(1,10)"
   ]
  },
  {
   "cell_type": "code",
   "execution_count": 30,
   "id": "d3d2c1b3-9b36-4118-ba90-aaa164d6806c",
   "metadata": {
    "tags": []
   },
   "outputs": [
    {
     "data": {
      "text/plain": [
       "array([10, 46, 74, 66, 57, 94,  4,  6, 61,  6])"
      ]
     },
     "execution_count": 30,
     "metadata": {},
     "output_type": "execute_result"
    }
   ],
   "source": [
    "np.random.randint(1,100,10)"
   ]
  },
  {
   "cell_type": "code",
   "execution_count": 36,
   "id": "a65ebc71-1411-4cf9-a4a3-18adab3222fb",
   "metadata": {
    "tags": []
   },
   "outputs": [],
   "source": [
    "x = np.random.randint(1,100,15)"
   ]
  },
  {
   "cell_type": "code",
   "execution_count": 34,
   "id": "8ad098bd-4e0c-4e44-be5d-4c02d4f889d6",
   "metadata": {
    "tags": []
   },
   "outputs": [],
   "source": [
    "y = np.random.randint(1,100,[4,5])"
   ]
  },
  {
   "cell_type": "code",
   "execution_count": 35,
   "id": "d0c6dba5-e3df-43fa-9d89-fff7cbcfcb33",
   "metadata": {
    "tags": []
   },
   "outputs": [
    {
     "data": {
      "text/plain": [
       "array([[33,  6, 79, 53, 31],\n",
       "       [54, 62, 77, 97, 44],\n",
       "       [72, 69, 91,  8, 35],\n",
       "       [63, 30, 98, 33, 47]])"
      ]
     },
     "execution_count": 35,
     "metadata": {},
     "output_type": "execute_result"
    }
   ],
   "source": [
    "y"
   ]
  },
  {
   "cell_type": "code",
   "execution_count": 37,
   "id": "e3679a20-e379-4d60-b0a4-a62df471ab80",
   "metadata": {
    "tags": []
   },
   "outputs": [
    {
     "data": {
      "text/plain": [
       "array([90, 82, 98, 61, 62,  9, 30, 40, 70, 37, 29, 18, 99, 24, 34])"
      ]
     },
     "execution_count": 37,
     "metadata": {},
     "output_type": "execute_result"
    }
   ],
   "source": [
    "x"
   ]
  },
  {
   "cell_type": "code",
   "execution_count": 38,
   "id": "0877754d-5336-4a6a-a2a9-3a208120c97c",
   "metadata": {
    "tags": []
   },
   "outputs": [
    {
     "data": {
      "text/plain": [
       "34"
      ]
     },
     "execution_count": 38,
     "metadata": {},
     "output_type": "execute_result"
    }
   ],
   "source": [
    "x[-1]"
   ]
  },
  {
   "cell_type": "code",
   "execution_count": 39,
   "id": "7dcfc887-c8e5-4b61-9bdc-cb603e2d2d36",
   "metadata": {
    "tags": []
   },
   "outputs": [
    {
     "data": {
      "text/plain": [
       "9"
      ]
     },
     "execution_count": 39,
     "metadata": {},
     "output_type": "execute_result"
    }
   ],
   "source": [
    "x[5]"
   ]
  },
  {
   "cell_type": "code",
   "execution_count": 40,
   "id": "25a7df87-cbee-49e1-a646-64aafb261334",
   "metadata": {
    "tags": []
   },
   "outputs": [
    {
     "data": {
      "text/plain": [
       "array([98, 61, 62,  9, 30, 40, 70])"
      ]
     },
     "execution_count": 40,
     "metadata": {},
     "output_type": "execute_result"
    }
   ],
   "source": [
    "x[2:9]"
   ]
  },
  {
   "cell_type": "code",
   "execution_count": 42,
   "id": "5c7709c8-1dcd-4b84-a451-af9e3e23b0f5",
   "metadata": {
    "tags": []
   },
   "outputs": [
    {
     "data": {
      "text/plain": [
       "array([[54, 62, 77],\n",
       "       [72, 69, 91]])"
      ]
     },
     "execution_count": 42,
     "metadata": {},
     "output_type": "execute_result"
    }
   ],
   "source": [
    "y[1:3,0:3]"
   ]
  },
  {
   "cell_type": "code",
   "execution_count": 43,
   "id": "beef846e-788b-40fa-b85b-c41da0da0914",
   "metadata": {
    "tags": []
   },
   "outputs": [
    {
     "data": {
      "text/plain": [
       "array([[62, 97],\n",
       "       [30, 33]])"
      ]
     },
     "execution_count": 43,
     "metadata": {},
     "output_type": "execute_result"
    }
   ],
   "source": [
    "y[1:5:2,1:5:2]"
   ]
  },
  {
   "cell_type": "code",
   "execution_count": 19,
   "id": "febe4590-e005-499c-ba5c-5f9c3dd507fc",
   "metadata": {},
   "outputs": [
    {
     "data": {
      "text/plain": [
       "[1, 23, 4, 1, 2, 3, 4]"
      ]
     },
     "execution_count": 19,
     "metadata": {},
     "output_type": "execute_result"
    }
   ],
   "source": [
    "li = [1,23,4]\n",
    "li2 = [1,2,3,4]\n",
    "li + li2"
   ]
  },
  {
   "cell_type": "code",
   "execution_count": 62,
   "id": "12c10399-3269-4ceb-bcbe-05da5f9bebfb",
   "metadata": {
    "tags": []
   },
   "outputs": [
    {
     "data": {
      "text/plain": [
       "52.0"
      ]
     },
     "execution_count": 62,
     "metadata": {},
     "output_type": "execute_result"
    }
   ],
   "source": [
    "x = np.random.randint(1,100,15)\n",
    "x.mean()\n",
    "np.median(x)"
   ]
  },
  {
   "cell_type": "code",
   "execution_count": 47,
   "id": "108f10c3-d8d1-41bc-b6ac-3911b17fdbe5",
   "metadata": {
    "tags": []
   },
   "outputs": [
    {
     "data": {
      "text/plain": [
       "27.578896924198318"
      ]
     },
     "execution_count": 47,
     "metadata": {},
     "output_type": "execute_result"
    }
   ],
   "source": [
    "x.std()"
   ]
  },
  {
   "cell_type": "code",
   "execution_count": 53,
   "id": "58a8fb3b-f993-40dd-8ad8-3b6646281338",
   "metadata": {
    "tags": []
   },
   "outputs": [
    {
     "data": {
      "text/plain": [
       "array([[ 6, 41,  6, 58, 62],\n",
       "       [30, 96, 60, 14, 31],\n",
       "       [17, 51, 68, 92, 56],\n",
       "       [66,  1, 78, 79,  6]])"
      ]
     },
     "execution_count": 53,
     "metadata": {},
     "output_type": "execute_result"
    }
   ],
   "source": [
    "y = np.random.randint(1,100,[4,5])\n",
    "y"
   ]
  },
  {
   "cell_type": "code",
   "execution_count": 54,
   "id": "4c77949c-b1e3-4b59-859a-fec250810033",
   "metadata": {
    "tags": []
   },
   "outputs": [
    {
     "data": {
      "text/plain": [
       "array([[ 6, 30, 17, 66],\n",
       "       [41, 96, 51,  1],\n",
       "       [ 6, 60, 68, 78],\n",
       "       [58, 14, 92, 79],\n",
       "       [62, 31, 56,  6]])"
      ]
     },
     "execution_count": 54,
     "metadata": {},
     "output_type": "execute_result"
    }
   ],
   "source": [
    "y.transpose()"
   ]
  },
  {
   "cell_type": "code",
   "execution_count": 57,
   "id": "b43057ce-7d0b-43c9-9e2f-1b9d617e80b0",
   "metadata": {
    "tags": []
   },
   "outputs": [],
   "source": [
    "w = y.ravel()"
   ]
  },
  {
   "cell_type": "code",
   "execution_count": 58,
   "id": "1a025cbb-3142-4310-9b2d-33e7a1e25750",
   "metadata": {
    "tags": []
   },
   "outputs": [
    {
     "data": {
      "text/plain": [
       "(array([ 1,  3,  4,  6,  7,  9, 11, 12, 13, 14, 15, 17, 18], dtype=int64),)"
      ]
     },
     "execution_count": 58,
     "metadata": {},
     "output_type": "execute_result"
    }
   ],
   "source": [
    "np.where(w > 30)"
   ]
  },
  {
   "cell_type": "code",
   "execution_count": 59,
   "id": "ba401e85-e8ff-48d1-a7ab-300747326961",
   "metadata": {
    "tags": []
   },
   "outputs": [
    {
     "data": {
      "text/plain": [
       "True"
      ]
     },
     "execution_count": 59,
     "metadata": {},
     "output_type": "execute_result"
    }
   ],
   "source": [
    "np.any(w > 30)"
   ]
  },
  {
   "cell_type": "code",
   "execution_count": 60,
   "id": "48ddd95a-178f-4f74-be21-b51029803217",
   "metadata": {
    "tags": []
   },
   "outputs": [
    {
     "data": {
      "text/plain": [
       "False"
      ]
     },
     "execution_count": 60,
     "metadata": {},
     "output_type": "execute_result"
    }
   ],
   "source": [
    "np.all(w > 30)"
   ]
  },
  {
   "cell_type": "code",
   "execution_count": null,
   "id": "473c7721-9ea9-4d26-b064-36384a11e854",
   "metadata": {},
   "outputs": [],
   "source": []
  }
 ],
 "metadata": {
  "kernelspec": {
   "display_name": "Python 3 (ipykernel)",
   "language": "python",
   "name": "python3"
  },
  "language_info": {
   "codemirror_mode": {
    "name": "ipython",
    "version": 3
   },
   "file_extension": ".py",
   "mimetype": "text/x-python",
   "name": "python",
   "nbconvert_exporter": "python",
   "pygments_lexer": "ipython3",
   "version": "3.11.5"
  }
 },
 "nbformat": 4,
 "nbformat_minor": 5
}

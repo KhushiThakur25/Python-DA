{
 "cells": [
  {
   "cell_type": "code",
   "execution_count": 2,
   "id": "b133b6ab-2b68-4f47-b432-049ffd6b324f",
   "metadata": {
    "tags": []
   },
   "outputs": [
    {
     "name": "stdout",
     "output_type": "stream",
     "text": [
      "15\n"
     ]
    }
   ],
   "source": [
    "sums = 0\n",
    "for i in range(0,6):\n",
    "    sums += i\n",
    "print(sums)\n",
    "    "
   ]
  },
  {
   "cell_type": "code",
   "execution_count": null,
   "id": "d57c884d-a95b-407d-918c-d56676f7e3e7",
   "metadata": {},
   "outputs": [],
   "source": [
    "n = 563214"
   ]
  },
  {
   "cell_type": "code",
   "execution_count": 4,
   "id": "7243181f-9db5-4816-9986-ce769f277f67",
   "metadata": {
    "tags": []
   },
   "outputs": [
    {
     "name": "stdout",
     "output_type": "stream",
     "text": [
      "-10\n",
      "-9\n",
      "-8\n",
      "-7\n",
      "-6\n",
      "-5\n",
      "-4\n",
      "-3\n",
      "-2\n",
      "-1\n"
     ]
    }
   ],
   "source": [
    "for i in range(-10,0,1):\n",
    "    print(i)"
   ]
  },
  {
   "cell_type": "code",
   "execution_count": 5,
   "id": "f1295597-ba0a-4676-8998-422484919543",
   "metadata": {
    "tags": []
   },
   "outputs": [
    {
     "name": "stdout",
     "output_type": "stream",
     "text": [
      "10\n",
      "9\n",
      "8\n",
      "7\n",
      "6\n",
      "5\n",
      "4\n",
      "3\n",
      "2\n",
      "1\n"
     ]
    }
   ],
   "source": [
    "for i in range(10,0,-1):\n",
    "    print(i)"
   ]
  },
  {
   "cell_type": "code",
   "execution_count": 9,
   "id": "9f9a7492-ce36-4cb4-98f0-2650c1727b9e",
   "metadata": {
    "tags": []
   },
   "outputs": [
    {
     "name": "stdin",
     "output_type": "stream",
     "text": [
      "Enter the value for finding the factorial 10\n"
     ]
    },
    {
     "name": "stdout",
     "output_type": "stream",
     "text": [
      "Your factorial of 10 is :  3628800\n"
     ]
    }
   ],
   "source": [
    "n = int(input(\"Enter the value for finding the factorial\"))\n",
    "fact = 1\n",
    "for i in range(1,n+1):\n",
    "    fact *= i\n",
    "print(f\"Your factorial of {n} is : \",fact)\n",
    "    "
   ]
  },
  {
   "cell_type": "code",
   "execution_count": 10,
   "id": "04e8b437-a657-4999-8212-eda9c3a181cf",
   "metadata": {},
   "outputs": [
    {
     "name": "stdout",
     "output_type": "stream",
     "text": [
      "Number is not a prime..\n"
     ]
    }
   ],
   "source": [
    "#1-19\n",
    "n = 20\n",
    "count = 0\n",
    "flag = True\n",
    "for i in range(2,n):\n",
    "    count += 1;\n",
    "    if(n % i == 0):\n",
    "        flag = False\n",
    "        print(\"Number is not a prime..\")\n",
    "        break;\n",
    "if flag:\n",
    "    print(\"Number is a prime..\")\n",
    "    \n",
    "print(count)\n",
    "    \n",
    "\n",
    "    \n",
    "    "
   ]
  },
  {
   "cell_type": "code",
   "execution_count": 3,
   "id": "eaff2c4a-151e-48de-bc86-b454cda5aff6",
   "metadata": {},
   "outputs": [
    {
     "name": "stdout",
     "output_type": "stream",
     "text": [
      "5 4 3 2 1 \n",
      "4 3 2 1 \n",
      "3 2 1 \n",
      "2 1 \n",
      "1 \n"
     ]
    }
   ],
   "source": [
    "for i in range(5):\n",
    "    for j in range(5-i,0,-1):\n",
    "        print(j,end = \" \")\n",
    "    print()"
   ]
  },
  {
   "cell_type": "code",
   "execution_count": null,
   "id": "8489c48e-c2fa-41d9-8e34-569e6868f7b7",
   "metadata": {},
   "outputs": [],
   "source": [
    "for i in range(5):\n",
    "    for j in range(i):\n",
    "        print(\"_\",end = \" \")\n",
    "    for k in range(i,5):\n",
    "        print(\"*\",end = \" \")\n",
    "    print()"
   ]
  },
  {
   "cell_type": "code",
   "execution_count": 1,
   "id": "38423b63-b62d-4f1d-9a88-a8287a9f927b",
   "metadata": {
    "tags": []
   },
   "outputs": [
    {
     "data": {
      "text/plain": [
       "str"
      ]
     },
     "execution_count": 1,
     "metadata": {},
     "output_type": "execute_result"
    }
   ],
   "source": [
    "st = \"Rahul\"\n",
    "type(st)"
   ]
  },
  {
   "cell_type": "code",
   "execution_count": 2,
   "id": "12de9ed1-3196-4424-b0ff-e4c0f7230221",
   "metadata": {
    "tags": []
   },
   "outputs": [
    {
     "data": {
      "text/plain": [
       "str"
      ]
     },
     "execution_count": 2,
     "metadata": {},
     "output_type": "execute_result"
    }
   ],
   "source": [
    "s = 'Ram'\n",
    "type(s)"
   ]
  },
  {
   "cell_type": "code",
   "execution_count": 3,
   "id": "0e4373a8-578e-43e3-9cba-b8cae794f64b",
   "metadata": {
    "tags": []
   },
   "outputs": [
    {
     "data": {
      "text/plain": [
       "'a'"
      ]
     },
     "execution_count": 3,
     "metadata": {},
     "output_type": "execute_result"
    }
   ],
   "source": [
    "st[1]"
   ]
  },
  {
   "cell_type": "code",
   "execution_count": 4,
   "id": "9eb122c4-c38f-454c-b3ef-6eb36cd405dc",
   "metadata": {
    "tags": []
   },
   "outputs": [
    {
     "data": {
      "text/plain": [
       "'u'"
      ]
     },
     "execution_count": 4,
     "metadata": {},
     "output_type": "execute_result"
    }
   ],
   "source": [
    "st[3]"
   ]
  },
  {
   "cell_type": "code",
   "execution_count": 5,
   "id": "296387d8-b9df-4c89-b95a-d6eeb1e7bc4b",
   "metadata": {
    "tags": []
   },
   "outputs": [
    {
     "name": "stdout",
     "output_type": "stream",
     "text": [
      "Element is exists\n"
     ]
    }
   ],
   "source": [
    "if 'h' in st:\n",
    "    print(\"Element is exists\")\n",
    "else:\n",
    "    print(\"Element doesn't exist\")"
   ]
  },
  {
   "cell_type": "code",
   "execution_count": 6,
   "id": "45f2cf80-9154-48ae-a463-5301c73f5e10",
   "metadata": {
    "tags": []
   },
   "outputs": [
    {
     "name": "stdout",
     "output_type": "stream",
     "text": [
      "R\n",
      "a\n",
      "h\n",
      "u\n",
      "l\n"
     ]
    }
   ],
   "source": [
    "for i in st:\n",
    "    print(i)"
   ]
  },
  {
   "cell_type": "code",
   "execution_count": 9,
   "id": "4164aa20-fdc2-4a5f-ba5f-ce3c31e84894",
   "metadata": {
    "tags": []
   },
   "outputs": [
    {
     "name": "stdout",
     "output_type": "stream",
     "text": [
      "R\n",
      "a\n",
      "h\n",
      "u\n",
      "l\n"
     ]
    }
   ],
   "source": [
    "for i in range(0,len(st)):\n",
    "    print(st[i])"
   ]
  },
  {
   "cell_type": "code",
   "execution_count": 47,
   "id": "f7c4f1b9-f2af-4e9f-830f-320d6edd1984",
   "metadata": {
    "tags": []
   },
   "outputs": [
    {
     "data": {
      "text/plain": [
       "'nohtyp si eman sti egaugnal gnimmargorp a si sihT'"
      ]
     },
     "execution_count": 47,
     "metadata": {},
     "output_type": "execute_result"
    }
   ],
   "source": [
    "st = 'This is a programming language its name is python'\n",
    "st[len(st)-1:-(len(st)+1):-1]\n"
   ]
  },
  {
   "cell_type": "code",
   "execution_count": 54,
   "id": "94ee5c45-5a54-4877-b35f-1c7a5f6d8bbd",
   "metadata": {
    "tags": []
   },
   "outputs": [
    {
     "data": {
      "text/plain": [
       "'python is name its language programming a is This'"
      ]
     },
     "execution_count": 54,
     "metadata": {},
     "output_type": "execute_result"
    }
   ],
   "source": [
    "#string -- > list \n",
    "li = st.split()\n",
    "li = li[len(li)-1:-(len(li)+1):-1]\n",
    "#list -- > string\n",
    "li = \" \".join(li)\n",
    "li"
   ]
  },
  {
   "cell_type": "code",
   "execution_count": 45,
   "id": "232f9f0e-bf77-49a5-8f73-2e2db0fced87",
   "metadata": {
    "tags": []
   },
   "outputs": [
    {
     "data": {
      "text/plain": [
       "'y'"
      ]
     },
     "execution_count": 45,
     "metadata": {},
     "output_type": "execute_result"
    }
   ],
   "source": [
    "st[-5]"
   ]
  },
  {
   "cell_type": "code",
   "execution_count": 12,
   "id": "67786d74-9318-478e-8722-8cb4b3fa37ca",
   "metadata": {
    "tags": []
   },
   "outputs": [
    {
     "data": {
      "text/plain": [
       "'is is a'"
      ]
     },
     "execution_count": 12,
     "metadata": {},
     "output_type": "execute_result"
    }
   ],
   "source": [
    "st[2:9]"
   ]
  },
  {
   "cell_type": "code",
   "execution_count": 13,
   "id": "a3d31f5a-d0d0-4e87-9c3a-e71deb8be97b",
   "metadata": {
    "tags": []
   },
   "outputs": [
    {
     "data": {
      "text/plain": [
       "'sap'"
      ]
     },
     "execution_count": 13,
     "metadata": {},
     "output_type": "execute_result"
    }
   ],
   "source": [
    "st[6:12:2]"
   ]
  },
  {
   "cell_type": "code",
   "execution_count": 15,
   "id": "a624917b-b653-41d9-80d9-eb8debf26177",
   "metadata": {
    "tags": []
   },
   "outputs": [
    {
     "data": {
      "text/plain": [
       "'This is q progrqmming lqnguage its name is python'"
      ]
     },
     "execution_count": 15,
     "metadata": {},
     "output_type": "execute_result"
    }
   ],
   "source": [
    "st.replace(\"a\",\"q\",3)"
   ]
  },
  {
   "cell_type": "code",
   "execution_count": 16,
   "id": "1853d9f3-75dd-40eb-a46d-849dc6d8b696",
   "metadata": {
    "tags": []
   },
   "outputs": [
    {
     "data": {
      "text/plain": [
       "'THIS IS A PROGRAMMING LANGUAGE ITS NAME IS PYTHON'"
      ]
     },
     "execution_count": 16,
     "metadata": {},
     "output_type": "execute_result"
    }
   ],
   "source": [
    "st.upper()"
   ]
  },
  {
   "cell_type": "code",
   "execution_count": 17,
   "id": "04601ec8-b17f-462f-a084-d9a88fa52242",
   "metadata": {
    "tags": []
   },
   "outputs": [
    {
     "data": {
      "text/plain": [
       "'this is a programming language its name is python'"
      ]
     },
     "execution_count": 17,
     "metadata": {},
     "output_type": "execute_result"
    }
   ],
   "source": [
    "st.lower()"
   ]
  },
  {
   "cell_type": "code",
   "execution_count": 18,
   "id": "2ff6caa5-e682-4714-a8b3-4ca6dbc273e5",
   "metadata": {
    "tags": []
   },
   "outputs": [
    {
     "data": {
      "text/plain": [
       "'tHIS IS A PROGRAMMING LANGUAGE ITS NAME IS PYTHON'"
      ]
     },
     "execution_count": 18,
     "metadata": {},
     "output_type": "execute_result"
    }
   ],
   "source": [
    "st.swapcase()"
   ]
  },
  {
   "cell_type": "code",
   "execution_count": 19,
   "id": "4f317d02-6032-4d45-9e88-65cc8358f487",
   "metadata": {
    "tags": []
   },
   "outputs": [
    {
     "data": {
      "text/plain": [
       "'This Is A Programming Language Its Name Is Python'"
      ]
     },
     "execution_count": 19,
     "metadata": {},
     "output_type": "execute_result"
    }
   ],
   "source": [
    "st.title()"
   ]
  },
  {
   "cell_type": "code",
   "execution_count": 21,
   "id": "82d18d39-d636-4b01-a241-347d0fcbf841",
   "metadata": {
    "tags": []
   },
   "outputs": [
    {
     "data": {
      "text/plain": [
       "True"
      ]
     },
     "execution_count": 21,
     "metadata": {},
     "output_type": "execute_result"
    }
   ],
   "source": [
    "\"hello\".casefold() == \"Hello\".casefold()"
   ]
  },
  {
   "cell_type": "code",
   "execution_count": 22,
   "id": "da4a27ed-15de-476a-b582-27385620174e",
   "metadata": {
    "tags": []
   },
   "outputs": [
    {
     "data": {
      "text/plain": [
       "False"
      ]
     },
     "execution_count": 22,
     "metadata": {},
     "output_type": "execute_result"
    }
   ],
   "source": [
    "st.isupper()"
   ]
  },
  {
   "cell_type": "code",
   "execution_count": 23,
   "id": "fe72188b-828a-43e1-bf34-ea396fd995fe",
   "metadata": {
    "tags": []
   },
   "outputs": [
    {
     "data": {
      "text/plain": [
       "False"
      ]
     },
     "execution_count": 23,
     "metadata": {},
     "output_type": "execute_result"
    }
   ],
   "source": [
    "st.islower()"
   ]
  },
  {
   "cell_type": "code",
   "execution_count": 24,
   "id": "8346d206-aea1-48b5-b924-2b5da5225dc2",
   "metadata": {
    "tags": []
   },
   "outputs": [
    {
     "data": {
      "text/plain": [
       "False"
      ]
     },
     "execution_count": 24,
     "metadata": {},
     "output_type": "execute_result"
    }
   ],
   "source": [
    "st.istitle()"
   ]
  },
  {
   "cell_type": "code",
   "execution_count": 37,
   "id": "ea6f5c18-5f89-4cfd-b993-9059fee20df3",
   "metadata": {
    "tags": []
   },
   "outputs": [
    {
     "name": "stdout",
     "output_type": "stream",
     "text": [
      "False\n"
     ]
    }
   ],
   "source": [
    "print(st.isalpha())"
   ]
  },
  {
   "cell_type": "code",
   "execution_count": 42,
   "id": "fcf2ea5c-de78-4be7-a911-016cc08d95e7",
   "metadata": {
    "tags": []
   },
   "outputs": [
    {
     "name": "stdout",
     "output_type": "stream",
     "text": [
      "True\n"
     ]
    }
   ],
   "source": [
    "string = 'AyushSaxena'\n",
    "print( string.isalpha())"
   ]
  },
  {
   "cell_type": "code",
   "execution_count": 33,
   "id": "f71e58b6-7336-4e1b-b92b-608dcda214f3",
   "metadata": {
    "tags": []
   },
   "outputs": [
    {
     "name": "stdout",
     "output_type": "stream",
     "text": [
      "True\n"
     ]
    }
   ],
   "source": [
    "string = 'Ayush'\n",
    "print(string.isalpha())"
   ]
  },
  {
   "cell_type": "code",
   "execution_count": 57,
   "id": "755c1448-1ae9-441c-90ce-9440d633ca68",
   "metadata": {
    "tags": []
   },
   "outputs": [],
   "source": [
    "string = 'Thisispython'\n"
   ]
  },
  {
   "cell_type": "code",
   "execution_count": 41,
   "id": "864f50ba-1d5f-4d4a-ba55-0755e160977e",
   "metadata": {
    "tags": []
   },
   "outputs": [
    {
     "data": {
      "text/plain": [
       "True"
      ]
     },
     "execution_count": 41,
     "metadata": {},
     "output_type": "execute_result"
    }
   ],
   "source": [
    "string.isalpha()"
   ]
  },
  {
   "cell_type": "code",
   "execution_count": 58,
   "id": "ec7db4b1-7b36-406c-a2df-0b625a8da087",
   "metadata": {
    "tags": []
   },
   "outputs": [
    {
     "data": {
      "text/plain": [
       "2"
      ]
     },
     "execution_count": 58,
     "metadata": {},
     "output_type": "execute_result"
    }
   ],
   "source": [
    "string.count('i')"
   ]
  },
  {
   "cell_type": "code",
   "execution_count": 59,
   "id": "1d504850-7f98-4a73-af3d-ba9666fc4867",
   "metadata": {
    "tags": []
   },
   "outputs": [
    {
     "data": {
      "text/plain": [
       "2"
      ]
     },
     "execution_count": 59,
     "metadata": {},
     "output_type": "execute_result"
    }
   ],
   "source": [
    "string.index('i')"
   ]
  },
  {
   "cell_type": "code",
   "execution_count": 60,
   "id": "03476817-8e85-4e6d-a2e7-cead762fb27a",
   "metadata": {
    "tags": []
   },
   "outputs": [
    {
     "data": {
      "text/plain": [
       "4"
      ]
     },
     "execution_count": 60,
     "metadata": {},
     "output_type": "execute_result"
    }
   ],
   "source": [
    "string.rindex('i')"
   ]
  },
  {
   "cell_type": "code",
   "execution_count": 61,
   "id": "5ec72aa0-5fcd-48bf-84a1-1129534a3f29",
   "metadata": {
    "tags": []
   },
   "outputs": [
    {
     "ename": "ValueError",
     "evalue": "substring not found",
     "output_type": "error",
     "traceback": [
      "\u001b[1;31m---------------------------------------------------------------------------\u001b[0m",
      "\u001b[1;31mValueError\u001b[0m                                Traceback (most recent call last)",
      "Cell \u001b[1;32mIn[61], line 1\u001b[0m\n\u001b[1;32m----> 1\u001b[0m string\u001b[38;5;241m.\u001b[39mindex(\u001b[38;5;124m'\u001b[39m\u001b[38;5;124mz\u001b[39m\u001b[38;5;124m'\u001b[39m)\n",
      "\u001b[1;31mValueError\u001b[0m: substring not found"
     ]
    }
   ],
   "source": [
    "string.index('z')"
   ]
  },
  {
   "cell_type": "code",
   "execution_count": 62,
   "id": "9f0d64ef-3709-4650-9995-f23c00ad09d3",
   "metadata": {
    "tags": []
   },
   "outputs": [
    {
     "data": {
      "text/plain": [
       "2"
      ]
     },
     "execution_count": 62,
     "metadata": {},
     "output_type": "execute_result"
    }
   ],
   "source": [
    "string.find('i')"
   ]
  },
  {
   "cell_type": "code",
   "execution_count": 63,
   "id": "0ff1ec2b-8407-40e3-9f90-66228007f4d9",
   "metadata": {
    "tags": []
   },
   "outputs": [
    {
     "data": {
      "text/plain": [
       "-1"
      ]
     },
     "execution_count": 63,
     "metadata": {},
     "output_type": "execute_result"
    }
   ],
   "source": [
    "string.find('z')"
   ]
  },
  {
   "cell_type": "code",
   "execution_count": null,
   "id": "330505e6-c7dd-4363-a4f5-79f186562bfa",
   "metadata": {},
   "outputs": [],
   "source": []
  }
 ],
 "metadata": {
  "kernelspec": {
   "display_name": "Python 3 (ipykernel)",
   "language": "python",
   "name": "python3"
  },
  "language_info": {
   "codemirror_mode": {
    "name": "ipython",
    "version": 3
   },
   "file_extension": ".py",
   "mimetype": "text/x-python",
   "name": "python",
   "nbconvert_exporter": "python",
   "pygments_lexer": "ipython3",
   "version": "3.11.5"
  }
 },
 "nbformat": 4,
 "nbformat_minor": 5
}
